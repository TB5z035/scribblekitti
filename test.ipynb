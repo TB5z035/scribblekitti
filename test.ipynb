{
 "cells": [
  {
   "cell_type": "code",
   "execution_count": 24,
   "metadata": {},
   "outputs": [],
   "source": [
    "import h5py\n",
    "from dataloader.semantickitti import SemanticKITTI\n",
    "import yaml\n",
    "import os\n",
    "from tqdm import tqdm\n",
    "import numpy as np\n",
    "import matplotlib.pyplot as plt\n",
    "from scipy.interpolate import griddata\n",
    "\n",
    "plt.rcParams['font.sans-serif']=['SimHei']\n",
    "plt.rcParams['axes.unicode_minus']=False\n"
   ]
  },
  {
   "cell_type": "code",
   "execution_count": 44,
   "metadata": {},
   "outputs": [],
   "source": [
    "\n",
    "color_map = {\n",
    "  0: [0,0,0],\n",
    "  1: [245, 150, 100],\n",
    "  2: [245, 230, 100],\n",
    "  3: [150, 60, 30],\n",
    "  4: [180, 30, 80],\n",
    "  5: [255, 0, 0],\n",
    "  6: [30, 30, 255],\n",
    "  7: [200, 40, 255],\n",
    "  8: [90, 30, 150],\n",
    "  9: [255, 0, 255],\n",
    "  10: [255, 150, 255],\n",
    "  11: [75, 0, 75],\n",
    "  12: [75, 0, 175],\n",
    "  13: [0, 200, 255],\n",
    "  14: [50, 120, 255],\n",
    "  15: [0, 175, 0],\n",
    "  16: [0, 60, 135],\n",
    "  17: [80, 240, 150],\n",
    "  18: [150, 240, 255],\n",
    "  19: [0, 0, 255]\n",
    "}\n",
    "\n",
    "# sample = dataset[0]\n",
    "\n",
    "def save_sample(xyzr, label, path='tmp/test.txt'):\n",
    "    rgb = []\n",
    "    with open(path, 'w') as f:\n",
    "        for (x, y, z, _), l in zip(xyzr, label):\n",
    "            r, g, b = color_map[l.item()]\n",
    "            rgb.append(color_map[l.item()])\n",
    "            print(f\"{x.item()} {y.item()} {z.item()} {r} {g} {b}\", file=f)\n",
    "    rgb = np.array(rgb)\n",
    "    print(rgb.shape)\n",
    "    render(xyzr[:, :3], rgb)\n",
    "def render(xyz, rgb, idx):\n",
    "    x=xyz[:,0]\n",
    "    y=xyz[:,1]\n",
    "    z=xyz[:,2]\n",
    "    \n",
    "    fig=plt.figure()\n",
    "    ax = fig.add_subplot(projection = '3d')\n",
    "    ax.scatter(x,y,z,c=rgb/255.0)\n",
    "    ax.set_title('三维图')\n",
    "    \n",
    "    plt.savefig(f\"visualize/{idx}.png\")\n",
    " "
   ]
  },
  {
   "cell_type": "code",
   "execution_count": 46,
   "metadata": {},
   "outputs": [
    {
     "name": "stderr",
     "output_type": "stream",
     "text": [
      "  0%|          | 0/19130 [00:00<?, ?it/s]"
     ]
    },
    {
     "name": "stderr",
     "output_type": "stream",
     "text": [
      "  0%|          | 0/19130 [00:00<?, ?it/s]\n"
     ]
    },
    {
     "ename": "ValueError",
     "evalue": "IPython won't let you open fd=0 by default as it is likely to crash IPython. If you know what you are doing, you can use builtins' open.",
     "output_type": "error",
     "traceback": [
      "\u001b[0;31m---------------------------------------------------------------------------\u001b[0m",
      "\u001b[0;31mValueError\u001b[0m                                Traceback (most recent call last)",
      "Cell \u001b[0;32mIn[46], line 13\u001b[0m\n\u001b[1;32m     10\u001b[0m predicted_labels \u001b[39m=\u001b[39m hf[os\u001b[39m.\u001b[39mpath\u001b[39m.\u001b[39mjoin(label_path, \u001b[39m'\u001b[39m\u001b[39mlabel\u001b[39m\u001b[39m'\u001b[39m)][()]\n\u001b[1;32m     11\u001b[0m uncertainty_scores \u001b[39m=\u001b[39m hf[os\u001b[39m.\u001b[39mpath\u001b[39m.\u001b[39mjoin(label_path, \u001b[39m'\u001b[39m\u001b[39munc\u001b[39m\u001b[39m'\u001b[39m)][()]\n\u001b[0;32m---> 13\u001b[0m save_sample(xyzr, predicted_labels, i)\n",
      "Cell \u001b[0;32mIn[44], line 28\u001b[0m, in \u001b[0;36msave_sample\u001b[0;34m(xyzr, label, path)\u001b[0m\n\u001b[1;32m     26\u001b[0m \u001b[39mdef\u001b[39;00m \u001b[39msave_sample\u001b[39m(xyzr, label, path\u001b[39m=\u001b[39m\u001b[39m'\u001b[39m\u001b[39mtmp/test.txt\u001b[39m\u001b[39m'\u001b[39m):\n\u001b[1;32m     27\u001b[0m     rgb \u001b[39m=\u001b[39m []\n\u001b[0;32m---> 28\u001b[0m     \u001b[39mwith\u001b[39;00m \u001b[39mopen\u001b[39;49m(path, \u001b[39m'\u001b[39;49m\u001b[39mw\u001b[39;49m\u001b[39m'\u001b[39;49m) \u001b[39mas\u001b[39;00m f:\n\u001b[1;32m     29\u001b[0m         \u001b[39mfor\u001b[39;00m (x, y, z, _), l \u001b[39min\u001b[39;00m \u001b[39mzip\u001b[39m(xyzr, label):\n\u001b[1;32m     30\u001b[0m             r, g, b \u001b[39m=\u001b[39m color_map[l\u001b[39m.\u001b[39mitem()]\n",
      "File \u001b[0;32m~/anaconda3/envs/cyh2306/lib/python3.8/site-packages/IPython/core/interactiveshell.py:278\u001b[0m, in \u001b[0;36m_modified_open\u001b[0;34m(file, *args, **kwargs)\u001b[0m\n\u001b[1;32m    275\u001b[0m \u001b[39m@functools\u001b[39m\u001b[39m.\u001b[39mwraps(io_open)\n\u001b[1;32m    276\u001b[0m \u001b[39mdef\u001b[39;00m \u001b[39m_modified_open\u001b[39m(file, \u001b[39m*\u001b[39margs, \u001b[39m*\u001b[39m\u001b[39m*\u001b[39mkwargs):\n\u001b[1;32m    277\u001b[0m     \u001b[39mif\u001b[39;00m file \u001b[39min\u001b[39;00m {\u001b[39m0\u001b[39m, \u001b[39m1\u001b[39m, \u001b[39m2\u001b[39m}:\n\u001b[0;32m--> 278\u001b[0m         \u001b[39mraise\u001b[39;00m \u001b[39mValueError\u001b[39;00m(\n\u001b[1;32m    279\u001b[0m             \u001b[39mf\u001b[39m\u001b[39m\"\u001b[39m\u001b[39mIPython won\u001b[39m\u001b[39m'\u001b[39m\u001b[39mt let you open fd=\u001b[39m\u001b[39m{\u001b[39;00mfile\u001b[39m}\u001b[39;00m\u001b[39m by default \u001b[39m\u001b[39m\"\u001b[39m\n\u001b[1;32m    280\u001b[0m             \u001b[39m\"\u001b[39m\u001b[39mas it is likely to crash IPython. If you know what you are doing, \u001b[39m\u001b[39m\"\u001b[39m\n\u001b[1;32m    281\u001b[0m             \u001b[39m\"\u001b[39m\u001b[39myou can use builtins\u001b[39m\u001b[39m'\u001b[39m\u001b[39m open.\u001b[39m\u001b[39m\"\u001b[39m\n\u001b[1;32m    282\u001b[0m         )\n\u001b[1;32m    284\u001b[0m     \u001b[39mreturn\u001b[39;00m io_open(file, \u001b[39m*\u001b[39margs, \u001b[39m*\u001b[39m\u001b[39m*\u001b[39mkwargs)\n",
      "\u001b[0;31mValueError\u001b[0m: IPython won't let you open fd=0 by default as it is likely to crash IPython. If you know what you are doing, you can use builtins' open."
     ]
    }
   ],
   "source": [
    "\n",
    "hf = h5py.File(\"./inference/training_results.h5\", \"r\")\n",
    "config = yaml.safe_load(open('config/unc_filter.yaml', 'r'))\n",
    "config['dataset'].update(yaml.safe_load(open('config/dataset/semantickitti.yaml', 'r')))\n",
    "ds = SemanticKITTI(split='train', config=config['dataset'])\n",
    "for i in tqdm(range(len(ds))):\n",
    "    label_path = ds.label_paths[i]\n",
    "    \n",
    "    xyzr = ds.get_lidar(i)\n",
    "\n",
    "    predicted_labels = hf[os.path.join(label_path, 'label')][()]\n",
    "    uncertainty_scores = hf[os.path.join(label_path, 'unc')][()]\n",
    "    \n",
    "    save_sample(xyzr, predicted_labels, i)"
   ]
  }
 ],
 "metadata": {
  "kernelspec": {
   "display_name": "cyh2306",
   "language": "python",
   "name": "python3"
  },
  "language_info": {
   "codemirror_mode": {
    "name": "ipython",
    "version": 3
   },
   "file_extension": ".py",
   "mimetype": "text/x-python",
   "name": "python",
   "nbconvert_exporter": "python",
   "pygments_lexer": "ipython3",
   "version": "3.8.17"
  },
  "orig_nbformat": 4
 },
 "nbformat": 4,
 "nbformat_minor": 2
}
